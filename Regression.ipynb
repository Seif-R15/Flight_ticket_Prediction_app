{
 "cells": [
  {
   "cell_type": "markdown",
   "id": "4b0c0bba",
   "metadata": {},
   "source": [
    "<h1 style=\"font-size:64px; color:red;\">Ticket  Flight Price Prediction</h1>"
   ]
  },
  {
   "cell_type": "code",
   "execution_count": null,
   "id": "22dd437f",
   "metadata": {},
   "outputs": [],
   "source": [
    "import pandas as pd\n",
    "import numpy as np \n",
    "import seaborn as sns\n",
    "import matplotlib.pyplot as plt"
   ]
  },
  {
   "cell_type": "code",
   "execution_count": 2,
   "id": "dd9f92f8",
   "metadata": {},
   "outputs": [
    {
     "data": {
      "text/html": [
       "<div>\n",
       "<style scoped>\n",
       "    .dataframe tbody tr th:only-of-type {\n",
       "        vertical-align: middle;\n",
       "    }\n",
       "\n",
       "    .dataframe tbody tr th {\n",
       "        vertical-align: top;\n",
       "    }\n",
       "\n",
       "    .dataframe thead th {\n",
       "        text-align: right;\n",
       "    }\n",
       "</style>\n",
       "<table border=\"1\" class=\"dataframe\">\n",
       "  <thead>\n",
       "    <tr style=\"text-align: right;\">\n",
       "      <th></th>\n",
       "      <th>Airline</th>\n",
       "      <th>Date_of_Journey</th>\n",
       "      <th>Source</th>\n",
       "      <th>Destination</th>\n",
       "      <th>Route</th>\n",
       "      <th>Dep_Time</th>\n",
       "      <th>Arrival_Time</th>\n",
       "      <th>Duration</th>\n",
       "      <th>Total_Stops</th>\n",
       "      <th>Additional_Info</th>\n",
       "      <th>Price</th>\n",
       "    </tr>\n",
       "  </thead>\n",
       "  <tbody>\n",
       "    <tr>\n",
       "      <th>0</th>\n",
       "      <td>IndiGo</td>\n",
       "      <td>24/03/2019</td>\n",
       "      <td>Banglore</td>\n",
       "      <td>New Delhi</td>\n",
       "      <td>BLR → DEL</td>\n",
       "      <td>22:20</td>\n",
       "      <td>01:10 22 Mar</td>\n",
       "      <td>2h 50m</td>\n",
       "      <td>non-stop</td>\n",
       "      <td>No info</td>\n",
       "      <td>3897</td>\n",
       "    </tr>\n",
       "    <tr>\n",
       "      <th>1</th>\n",
       "      <td>Air India</td>\n",
       "      <td>1/05/2019</td>\n",
       "      <td>Kolkata</td>\n",
       "      <td>Banglore</td>\n",
       "      <td>CCU → IXR → BBI → BLR</td>\n",
       "      <td>05:50</td>\n",
       "      <td>13:15</td>\n",
       "      <td>7h 25m</td>\n",
       "      <td>2 stops</td>\n",
       "      <td>No info</td>\n",
       "      <td>7662</td>\n",
       "    </tr>\n",
       "    <tr>\n",
       "      <th>2</th>\n",
       "      <td>Jet Airways</td>\n",
       "      <td>9/06/2019</td>\n",
       "      <td>Delhi</td>\n",
       "      <td>Cochin</td>\n",
       "      <td>DEL → LKO → BOM → COK</td>\n",
       "      <td>09:25</td>\n",
       "      <td>04:25 10 Jun</td>\n",
       "      <td>19h</td>\n",
       "      <td>2 stops</td>\n",
       "      <td>No info</td>\n",
       "      <td>13882</td>\n",
       "    </tr>\n",
       "    <tr>\n",
       "      <th>3</th>\n",
       "      <td>IndiGo</td>\n",
       "      <td>12/05/2019</td>\n",
       "      <td>Kolkata</td>\n",
       "      <td>Banglore</td>\n",
       "      <td>CCU → NAG → BLR</td>\n",
       "      <td>18:05</td>\n",
       "      <td>23:30</td>\n",
       "      <td>5h 25m</td>\n",
       "      <td>1 stop</td>\n",
       "      <td>No info</td>\n",
       "      <td>6218</td>\n",
       "    </tr>\n",
       "    <tr>\n",
       "      <th>4</th>\n",
       "      <td>IndiGo</td>\n",
       "      <td>01/03/2019</td>\n",
       "      <td>Banglore</td>\n",
       "      <td>New Delhi</td>\n",
       "      <td>BLR → NAG → DEL</td>\n",
       "      <td>16:50</td>\n",
       "      <td>21:35</td>\n",
       "      <td>4h 45m</td>\n",
       "      <td>1 stop</td>\n",
       "      <td>No info</td>\n",
       "      <td>13302</td>\n",
       "    </tr>\n",
       "    <tr>\n",
       "      <th>...</th>\n",
       "      <td>...</td>\n",
       "      <td>...</td>\n",
       "      <td>...</td>\n",
       "      <td>...</td>\n",
       "      <td>...</td>\n",
       "      <td>...</td>\n",
       "      <td>...</td>\n",
       "      <td>...</td>\n",
       "      <td>...</td>\n",
       "      <td>...</td>\n",
       "      <td>...</td>\n",
       "    </tr>\n",
       "    <tr>\n",
       "      <th>10678</th>\n",
       "      <td>Air Asia</td>\n",
       "      <td>9/04/2019</td>\n",
       "      <td>Kolkata</td>\n",
       "      <td>Banglore</td>\n",
       "      <td>CCU → BLR</td>\n",
       "      <td>19:55</td>\n",
       "      <td>22:25</td>\n",
       "      <td>2h 30m</td>\n",
       "      <td>non-stop</td>\n",
       "      <td>No info</td>\n",
       "      <td>4107</td>\n",
       "    </tr>\n",
       "    <tr>\n",
       "      <th>10679</th>\n",
       "      <td>Air India</td>\n",
       "      <td>27/04/2019</td>\n",
       "      <td>Kolkata</td>\n",
       "      <td>Banglore</td>\n",
       "      <td>CCU → BLR</td>\n",
       "      <td>20:45</td>\n",
       "      <td>23:20</td>\n",
       "      <td>2h 35m</td>\n",
       "      <td>non-stop</td>\n",
       "      <td>No info</td>\n",
       "      <td>4145</td>\n",
       "    </tr>\n",
       "    <tr>\n",
       "      <th>10680</th>\n",
       "      <td>Jet Airways</td>\n",
       "      <td>27/04/2019</td>\n",
       "      <td>Banglore</td>\n",
       "      <td>Delhi</td>\n",
       "      <td>BLR → DEL</td>\n",
       "      <td>08:20</td>\n",
       "      <td>11:20</td>\n",
       "      <td>3h</td>\n",
       "      <td>non-stop</td>\n",
       "      <td>No info</td>\n",
       "      <td>7229</td>\n",
       "    </tr>\n",
       "    <tr>\n",
       "      <th>10681</th>\n",
       "      <td>Vistara</td>\n",
       "      <td>01/03/2019</td>\n",
       "      <td>Banglore</td>\n",
       "      <td>New Delhi</td>\n",
       "      <td>BLR → DEL</td>\n",
       "      <td>11:30</td>\n",
       "      <td>14:10</td>\n",
       "      <td>2h 40m</td>\n",
       "      <td>non-stop</td>\n",
       "      <td>No info</td>\n",
       "      <td>12648</td>\n",
       "    </tr>\n",
       "    <tr>\n",
       "      <th>10682</th>\n",
       "      <td>Air India</td>\n",
       "      <td>9/05/2019</td>\n",
       "      <td>Delhi</td>\n",
       "      <td>Cochin</td>\n",
       "      <td>DEL → GOI → BOM → COK</td>\n",
       "      <td>10:55</td>\n",
       "      <td>19:15</td>\n",
       "      <td>8h 20m</td>\n",
       "      <td>2 stops</td>\n",
       "      <td>No info</td>\n",
       "      <td>11753</td>\n",
       "    </tr>\n",
       "  </tbody>\n",
       "</table>\n",
       "<p>10683 rows × 11 columns</p>\n",
       "</div>"
      ],
      "text/plain": [
       "           Airline Date_of_Journey    Source Destination  \\\n",
       "0           IndiGo      24/03/2019  Banglore   New Delhi   \n",
       "1        Air India       1/05/2019   Kolkata    Banglore   \n",
       "2      Jet Airways       9/06/2019     Delhi      Cochin   \n",
       "3           IndiGo      12/05/2019   Kolkata    Banglore   \n",
       "4           IndiGo      01/03/2019  Banglore   New Delhi   \n",
       "...            ...             ...       ...         ...   \n",
       "10678     Air Asia       9/04/2019   Kolkata    Banglore   \n",
       "10679    Air India      27/04/2019   Kolkata    Banglore   \n",
       "10680  Jet Airways      27/04/2019  Banglore       Delhi   \n",
       "10681      Vistara      01/03/2019  Banglore   New Delhi   \n",
       "10682    Air India       9/05/2019     Delhi      Cochin   \n",
       "\n",
       "                       Route Dep_Time  Arrival_Time Duration Total_Stops  \\\n",
       "0                  BLR → DEL    22:20  01:10 22 Mar   2h 50m    non-stop   \n",
       "1      CCU → IXR → BBI → BLR    05:50         13:15   7h 25m     2 stops   \n",
       "2      DEL → LKO → BOM → COK    09:25  04:25 10 Jun      19h     2 stops   \n",
       "3            CCU → NAG → BLR    18:05         23:30   5h 25m      1 stop   \n",
       "4            BLR → NAG → DEL    16:50         21:35   4h 45m      1 stop   \n",
       "...                      ...      ...           ...      ...         ...   \n",
       "10678              CCU → BLR    19:55         22:25   2h 30m    non-stop   \n",
       "10679              CCU → BLR    20:45         23:20   2h 35m    non-stop   \n",
       "10680              BLR → DEL    08:20         11:20       3h    non-stop   \n",
       "10681              BLR → DEL    11:30         14:10   2h 40m    non-stop   \n",
       "10682  DEL → GOI → BOM → COK    10:55         19:15   8h 20m     2 stops   \n",
       "\n",
       "      Additional_Info  Price  \n",
       "0             No info   3897  \n",
       "1             No info   7662  \n",
       "2             No info  13882  \n",
       "3             No info   6218  \n",
       "4             No info  13302  \n",
       "...               ...    ...  \n",
       "10678         No info   4107  \n",
       "10679         No info   4145  \n",
       "10680         No info   7229  \n",
       "10681         No info  12648  \n",
       "10682         No info  11753  \n",
       "\n",
       "[10683 rows x 11 columns]"
      ]
     },
     "execution_count": 2,
     "metadata": {},
     "output_type": "execute_result"
    }
   ],
   "source": [
    "df = pd.read_excel('Data_Train.xlsx')\n",
    "df"
   ]
  },
  {
   "cell_type": "code",
   "execution_count": 3,
   "id": "c5c5d922",
   "metadata": {},
   "outputs": [
    {
     "data": {
      "text/plain": [
       "0.02059346625479734"
      ]
     },
     "execution_count": 3,
     "metadata": {},
     "output_type": "execute_result"
    }
   ],
   "source": [
    "df.duplicated().mean()"
   ]
  },
  {
   "cell_type": "code",
   "execution_count": 4,
   "id": "7ddb5b7c",
   "metadata": {},
   "outputs": [],
   "source": [
    "df.drop_duplicates(inplace=True)"
   ]
  },
  {
   "cell_type": "code",
   "execution_count": 5,
   "id": "1e008275",
   "metadata": {},
   "outputs": [
    {
     "data": {
      "text/html": [
       "<div>\n",
       "<style scoped>\n",
       "    .dataframe tbody tr th:only-of-type {\n",
       "        vertical-align: middle;\n",
       "    }\n",
       "\n",
       "    .dataframe tbody tr th {\n",
       "        vertical-align: top;\n",
       "    }\n",
       "\n",
       "    .dataframe thead th {\n",
       "        text-align: right;\n",
       "    }\n",
       "</style>\n",
       "<table border=\"1\" class=\"dataframe\">\n",
       "  <thead>\n",
       "    <tr style=\"text-align: right;\">\n",
       "      <th></th>\n",
       "      <th>Airline</th>\n",
       "      <th>Date_of_Journey</th>\n",
       "      <th>Source</th>\n",
       "      <th>Destination</th>\n",
       "      <th>Route</th>\n",
       "      <th>Dep_Time</th>\n",
       "      <th>Arrival_Time</th>\n",
       "      <th>Duration</th>\n",
       "      <th>Total_Stops</th>\n",
       "      <th>Additional_Info</th>\n",
       "      <th>Price</th>\n",
       "    </tr>\n",
       "  </thead>\n",
       "  <tbody>\n",
       "    <tr>\n",
       "      <th>count</th>\n",
       "      <td>10463</td>\n",
       "      <td>10463</td>\n",
       "      <td>10463</td>\n",
       "      <td>10463</td>\n",
       "      <td>10462</td>\n",
       "      <td>10463</td>\n",
       "      <td>10463</td>\n",
       "      <td>10463</td>\n",
       "      <td>10462</td>\n",
       "      <td>10463</td>\n",
       "      <td>10463.000000</td>\n",
       "    </tr>\n",
       "    <tr>\n",
       "      <th>unique</th>\n",
       "      <td>12</td>\n",
       "      <td>44</td>\n",
       "      <td>5</td>\n",
       "      <td>6</td>\n",
       "      <td>128</td>\n",
       "      <td>222</td>\n",
       "      <td>1343</td>\n",
       "      <td>368</td>\n",
       "      <td>5</td>\n",
       "      <td>10</td>\n",
       "      <td>NaN</td>\n",
       "    </tr>\n",
       "    <tr>\n",
       "      <th>top</th>\n",
       "      <td>Jet Airways</td>\n",
       "      <td>6/06/2019</td>\n",
       "      <td>Delhi</td>\n",
       "      <td>Cochin</td>\n",
       "      <td>DEL → BOM → COK</td>\n",
       "      <td>18:55</td>\n",
       "      <td>19:00</td>\n",
       "      <td>2h 50m</td>\n",
       "      <td>1 stop</td>\n",
       "      <td>No info</td>\n",
       "      <td>NaN</td>\n",
       "    </tr>\n",
       "    <tr>\n",
       "      <th>freq</th>\n",
       "      <td>3700</td>\n",
       "      <td>490</td>\n",
       "      <td>4346</td>\n",
       "      <td>4346</td>\n",
       "      <td>2376</td>\n",
       "      <td>233</td>\n",
       "      <td>412</td>\n",
       "      <td>544</td>\n",
       "      <td>5625</td>\n",
       "      <td>8183</td>\n",
       "      <td>NaN</td>\n",
       "    </tr>\n",
       "    <tr>\n",
       "      <th>mean</th>\n",
       "      <td>NaN</td>\n",
       "      <td>NaN</td>\n",
       "      <td>NaN</td>\n",
       "      <td>NaN</td>\n",
       "      <td>NaN</td>\n",
       "      <td>NaN</td>\n",
       "      <td>NaN</td>\n",
       "      <td>NaN</td>\n",
       "      <td>NaN</td>\n",
       "      <td>NaN</td>\n",
       "      <td>9026.642454</td>\n",
       "    </tr>\n",
       "    <tr>\n",
       "      <th>std</th>\n",
       "      <td>NaN</td>\n",
       "      <td>NaN</td>\n",
       "      <td>NaN</td>\n",
       "      <td>NaN</td>\n",
       "      <td>NaN</td>\n",
       "      <td>NaN</td>\n",
       "      <td>NaN</td>\n",
       "      <td>NaN</td>\n",
       "      <td>NaN</td>\n",
       "      <td>NaN</td>\n",
       "      <td>4624.653227</td>\n",
       "    </tr>\n",
       "    <tr>\n",
       "      <th>min</th>\n",
       "      <td>NaN</td>\n",
       "      <td>NaN</td>\n",
       "      <td>NaN</td>\n",
       "      <td>NaN</td>\n",
       "      <td>NaN</td>\n",
       "      <td>NaN</td>\n",
       "      <td>NaN</td>\n",
       "      <td>NaN</td>\n",
       "      <td>NaN</td>\n",
       "      <td>NaN</td>\n",
       "      <td>1759.000000</td>\n",
       "    </tr>\n",
       "    <tr>\n",
       "      <th>25%</th>\n",
       "      <td>NaN</td>\n",
       "      <td>NaN</td>\n",
       "      <td>NaN</td>\n",
       "      <td>NaN</td>\n",
       "      <td>NaN</td>\n",
       "      <td>NaN</td>\n",
       "      <td>NaN</td>\n",
       "      <td>NaN</td>\n",
       "      <td>NaN</td>\n",
       "      <td>NaN</td>\n",
       "      <td>5224.000000</td>\n",
       "    </tr>\n",
       "    <tr>\n",
       "      <th>50%</th>\n",
       "      <td>NaN</td>\n",
       "      <td>NaN</td>\n",
       "      <td>NaN</td>\n",
       "      <td>NaN</td>\n",
       "      <td>NaN</td>\n",
       "      <td>NaN</td>\n",
       "      <td>NaN</td>\n",
       "      <td>NaN</td>\n",
       "      <td>NaN</td>\n",
       "      <td>NaN</td>\n",
       "      <td>8266.000000</td>\n",
       "    </tr>\n",
       "    <tr>\n",
       "      <th>75%</th>\n",
       "      <td>NaN</td>\n",
       "      <td>NaN</td>\n",
       "      <td>NaN</td>\n",
       "      <td>NaN</td>\n",
       "      <td>NaN</td>\n",
       "      <td>NaN</td>\n",
       "      <td>NaN</td>\n",
       "      <td>NaN</td>\n",
       "      <td>NaN</td>\n",
       "      <td>NaN</td>\n",
       "      <td>12343.500000</td>\n",
       "    </tr>\n",
       "    <tr>\n",
       "      <th>max</th>\n",
       "      <td>NaN</td>\n",
       "      <td>NaN</td>\n",
       "      <td>NaN</td>\n",
       "      <td>NaN</td>\n",
       "      <td>NaN</td>\n",
       "      <td>NaN</td>\n",
       "      <td>NaN</td>\n",
       "      <td>NaN</td>\n",
       "      <td>NaN</td>\n",
       "      <td>NaN</td>\n",
       "      <td>79512.000000</td>\n",
       "    </tr>\n",
       "  </tbody>\n",
       "</table>\n",
       "</div>"
      ],
      "text/plain": [
       "            Airline Date_of_Journey Source Destination            Route  \\\n",
       "count         10463           10463  10463       10463            10462   \n",
       "unique           12              44      5           6              128   \n",
       "top     Jet Airways       6/06/2019  Delhi      Cochin  DEL → BOM → COK   \n",
       "freq           3700             490   4346        4346             2376   \n",
       "mean            NaN             NaN    NaN         NaN              NaN   \n",
       "std             NaN             NaN    NaN         NaN              NaN   \n",
       "min             NaN             NaN    NaN         NaN              NaN   \n",
       "25%             NaN             NaN    NaN         NaN              NaN   \n",
       "50%             NaN             NaN    NaN         NaN              NaN   \n",
       "75%             NaN             NaN    NaN         NaN              NaN   \n",
       "max             NaN             NaN    NaN         NaN              NaN   \n",
       "\n",
       "       Dep_Time Arrival_Time Duration Total_Stops Additional_Info  \\\n",
       "count     10463        10463    10463       10462           10463   \n",
       "unique      222         1343      368           5              10   \n",
       "top       18:55        19:00   2h 50m      1 stop         No info   \n",
       "freq        233          412      544        5625            8183   \n",
       "mean        NaN          NaN      NaN         NaN             NaN   \n",
       "std         NaN          NaN      NaN         NaN             NaN   \n",
       "min         NaN          NaN      NaN         NaN             NaN   \n",
       "25%         NaN          NaN      NaN         NaN             NaN   \n",
       "50%         NaN          NaN      NaN         NaN             NaN   \n",
       "75%         NaN          NaN      NaN         NaN             NaN   \n",
       "max         NaN          NaN      NaN         NaN             NaN   \n",
       "\n",
       "               Price  \n",
       "count   10463.000000  \n",
       "unique           NaN  \n",
       "top              NaN  \n",
       "freq             NaN  \n",
       "mean     9026.642454  \n",
       "std      4624.653227  \n",
       "min      1759.000000  \n",
       "25%      5224.000000  \n",
       "50%      8266.000000  \n",
       "75%     12343.500000  \n",
       "max     79512.000000  "
      ]
     },
     "execution_count": 5,
     "metadata": {},
     "output_type": "execute_result"
    }
   ],
   "source": [
    "df.describe(include='all')"
   ]
  },
  {
   "cell_type": "code",
   "execution_count": 6,
   "id": "a10ebeac",
   "metadata": {},
   "outputs": [],
   "source": [
    "X = df.iloc[:, :-1].values\n",
    "y = df.iloc[:, -1].values"
   ]
  },
  {
   "cell_type": "markdown",
   "id": "085ee9e9",
   "metadata": {},
   "source": [
    "## Feature Engineering"
   ]
  },
  {
   "cell_type": "code",
   "execution_count": 7,
   "id": "c533bed1",
   "metadata": {},
   "outputs": [
    {
     "data": {
      "text/plain": [
       "No info                         8183\n",
       "In-flight meal not included     1926\n",
       "No check-in baggage included     318\n",
       "1 Long layover                    19\n",
       "Change airports                    7\n",
       "Business class                     4\n",
       "No Info                            3\n",
       "1 Short layover                    1\n",
       "Red-eye flight                     1\n",
       "2 Long layover                     1\n",
       "Name: Additional_Info, dtype: int64"
      ]
     },
     "execution_count": 7,
     "metadata": {},
     "output_type": "execute_result"
    }
   ],
   "source": [
    "df['Additional_Info'].value_counts()"
   ]
  },
  {
   "cell_type": "code",
   "execution_count": 8,
   "id": "a564fd13",
   "metadata": {},
   "outputs": [],
   "source": [
    "df['Additional_Info'] = df['Additional_Info'].replace('No Info','No info')"
   ]
  },
  {
   "cell_type": "code",
   "execution_count": 9,
   "id": "373defa3",
   "metadata": {},
   "outputs": [
    {
     "data": {
      "text/plain": [
       "No info                         8186\n",
       "In-flight meal not included     1926\n",
       "No check-in baggage included     318\n",
       "1 Long layover                    19\n",
       "Change airports                    7\n",
       "Business class                     4\n",
       "1 Short layover                    1\n",
       "Red-eye flight                     1\n",
       "2 Long layover                     1\n",
       "Name: Additional_Info, dtype: int64"
      ]
     },
     "execution_count": 9,
     "metadata": {},
     "output_type": "execute_result"
    }
   ],
   "source": [
    "df['Additional_Info'].value_counts()"
   ]
  },
  {
   "cell_type": "code",
   "execution_count": 10,
   "id": "7335aab8",
   "metadata": {},
   "outputs": [
    {
     "name": "stdout",
     "output_type": "stream",
     "text": [
      "0        24\n",
      "1         1\n",
      "2         9\n",
      "3        12\n",
      "4         1\n",
      "         ..\n",
      "10678     9\n",
      "10679    27\n",
      "10680    27\n",
      "10681     1\n",
      "10682     9\n",
      "Name: Day_of_Journey, Length: 10463, dtype: int32\n"
     ]
    }
   ],
   "source": [
    "df['Day_of_Journey'] = df['Date_of_Journey'].str.split('/').str[0].astype(int)\n",
    "print(df['Day_of_Journey'])"
   ]
  },
  {
   "cell_type": "code",
   "execution_count": 11,
   "id": "85c1de15",
   "metadata": {},
   "outputs": [
    {
     "data": {
      "text/plain": [
       "0        22.20\n",
       "1         5.50\n",
       "2         9.25\n",
       "3        18.05\n",
       "4        16.50\n",
       "         ...  \n",
       "10678    19.55\n",
       "10679    20.45\n",
       "10680     8.20\n",
       "10681    11.30\n",
       "10682    10.55\n",
       "Name: Number_of_Dep_Time, Length: 10463, dtype: float64"
      ]
     },
     "execution_count": 11,
     "metadata": {},
     "output_type": "execute_result"
    }
   ],
   "source": [
    "df['Number_of_Dep_Time'] = df['Dep_Time'].str.replace(':','.').astype(float)\n",
    "df['Number_of_Dep_Time']"
   ]
  },
  {
   "cell_type": "code",
   "execution_count": 12,
   "id": "7ba2959d",
   "metadata": {},
   "outputs": [
    {
     "data": {
      "text/plain": [
       "0         2.50\n",
       "1         7.25\n",
       "2        19.00\n",
       "3         5.25\n",
       "4         4.45\n",
       "         ...  \n",
       "10678     2.30\n",
       "10679     2.35\n",
       "10680     3.00\n",
       "10681     2.40\n",
       "10682     8.20\n",
       "Name: Number_Duration, Length: 10463, dtype: float64"
      ]
     },
     "execution_count": 12,
     "metadata": {},
     "output_type": "execute_result"
    }
   ],
   "source": [
    "df['Number_Duration'] = df['Duration'].str.replace('h','.').str.replace('m','').str.replace(' ','').astype(float)\n",
    "df['Number_Duration']"
   ]
  },
  {
   "cell_type": "code",
   "execution_count": 13,
   "id": "142194ae",
   "metadata": {},
   "outputs": [
    {
     "name": "stdout",
     "output_type": "stream",
     "text": [
      "0        25\n",
      "1         1\n",
      "2        10\n",
      "3        12\n",
      "4         1\n",
      "         ..\n",
      "10678     9\n",
      "10679    27\n",
      "10680    27\n",
      "10681     1\n",
      "10682     9\n",
      "Name: Day_of_Journey, Length: 10463, dtype: int32\n"
     ]
    }
   ],
   "source": [
    "# Check the condition and update 'Day_of_Journey' accordingly\n",
    "condition = df['Number_of_Dep_Time'] + df['Number_Duration'] > 24\n",
    "df.loc[condition, 'Day_of_Journey'] += 1\n",
    "\n",
    "df['Day_Arrival'] = df['Day_of_Journey']\n",
    "\n",
    "# Now, df['Day_of_Journey'] has been updated based on the condition\n",
    "print(df['Day_of_Journey'])\n"
   ]
  },
  {
   "cell_type": "code",
   "execution_count": 14,
   "id": "cb1b0811",
   "metadata": {},
   "outputs": [],
   "source": [
    "df = df.drop(\"Day_of_Journey\", axis=1)"
   ]
  },
  {
   "cell_type": "markdown",
   "id": "a133da8a",
   "metadata": {},
   "source": [
    "## Visualiztions"
   ]
  },
  {
   "cell_type": "markdown",
   "id": "dc1aa1b0",
   "metadata": {},
   "source": [
    "### Are there any corelation between the Price and other features"
   ]
  },
  {
   "cell_type": "code",
   "execution_count": 65,
   "id": "3422c804",
   "metadata": {},
   "outputs": [
    {
     "data": {
      "image/png": "[encoded data removed]",
      "text/plain": [
       "<Figure size 720x288 with 2 Axes>"
      ]
     },
     "metadata": {
      "needs_background": "light"
     },
     "output_type": "display_data"
    }
   ],
   "source": [
    "plt.figure(figsize=(10,4))\n",
    "corr=df.corr()\n",
    "sns.heatmap(corr,annot=True,cmap='mako',mask=np.triu(corr))\n",
    "plt.show()"
   ]
  },
  {
   "cell_type": "markdown",
   "id": "6ee21813",
   "metadata": {},
   "source": [
    "### Which month had the most number of enrolled flight tickits"
   ]
  },
  {
   "cell_type": "code",
   "execution_count": 66,
   "id": "edffdd45",
   "metadata": {},
   "outputs": [
    {
     "data": {
      "text/plain": [
       "5    3396\n",
       "6    3311\n",
       "3    2678\n",
       "4    1078\n",
       "Name: Date_of_Journey, dtype: int64"
      ]
     },
     "execution_count": 66,
     "metadata": {},
     "output_type": "execute_result"
    }
   ],
   "source": [
    "df['Date_of_Journey'].str.split('/').str[1].astype(int).value_counts()"
   ]
  },
  {
   "cell_type": "code",
   "execution_count": 115,
   "id": "bcb72064",
   "metadata": {},
   "outputs": [
    {
     "data": {
      "image/png": "[encoded data removed]",
      "text/plain": [
       "<Figure size 432x288 with 1 Axes>"
      ]
     },
     "metadata": {
      "needs_background": "light"
     },
     "output_type": "display_data"
    }
   ],
   "source": [
    "import matplotlib.pyplot as plt\n",
    "\n",
    "counts = df['Date_of_Journey'].str.split('/').str[1].astype(int).value_counts()\n",
    "\n",
    "counts.plot(kind='bar')\n",
    "plt.xlabel('Month')\n",
    "plt.ylabel('Count')\n",
    "plt.title('Number of Tickets purchaced for each month ')\n",
    "plt.show()\n"
   ]
  },
  {
   "cell_type": "markdown",
   "id": "33c3684b",
   "metadata": {},
   "source": [
    "### What is the top favourite Destinations in India whrer most of the people at this time of the year visits"
   ]
  },
  {
   "cell_type": "code",
   "execution_count": 15,
   "id": "d3436c8c",
   "metadata": {},
   "outputs": [],
   "source": [
    "sub_10_index = df['Destination'].value_counts().head(10).index"
   ]
  },
  {
   "cell_type": "code",
   "execution_count": 117,
   "id": "9fcae2da",
   "metadata": {},
   "outputs": [
    {
     "data": {
      "text/plain": [
       "Index(['Cochin', 'Banglore', 'Delhi', 'New Delhi', 'Hyderabad', 'Kolkata'], dtype='object')"
      ]
     },
     "execution_count": 117,
     "metadata": {},
     "output_type": "execute_result"
    }
   ],
   "source": [
    "sub_10_index"
   ]
  },
  {
   "cell_type": "code",
   "execution_count": 119,
   "id": "273103a0",
   "metadata": {},
   "outputs": [
    {
     "data": {
      "text/plain": [
       "<matplotlib.axes._subplots.AxesSubplot at 0x19b216bfc48>"
      ]
     },
     "execution_count": 119,
     "metadata": {},
     "output_type": "execute_result"
    },
    {
     "data": {
      "image/png": "[encoded data removed]",
      "text/plain": [
       "<Figure size 432x288 with 1 Axes>"
      ]
     },
     "metadata": {
      "needs_background": "light"
     },
     "output_type": "display_data"
    }
   ],
   "source": [
    "top_10 = df[df['Destination'].isin(sub_10_index)]\n",
    "sns.countplot(data=top_10,y='Destination',order=sub_10_index)"
   ]
  },
  {
   "cell_type": "markdown",
   "id": "d2166100",
   "metadata": {},
   "source": [
    "## Dealing with Missing Values"
   ]
  },
  {
   "cell_type": "code",
   "execution_count": 16,
   "id": "3045b371",
   "metadata": {},
   "outputs": [
    {
     "data": {
      "text/plain": [
       "Airline               0\n",
       "Date_of_Journey       0\n",
       "Source                0\n",
       "Destination           0\n",
       "Route                 1\n",
       "Dep_Time              0\n",
       "Arrival_Time          0\n",
       "Duration              0\n",
       "Total_Stops           1\n",
       "Additional_Info       0\n",
       "Price                 0\n",
       "Number_of_Dep_Time    0\n",
       "Number_Duration       0\n",
       "Day_Arrival           0\n",
       "dtype: int64"
      ]
     },
     "execution_count": 16,
     "metadata": {},
     "output_type": "execute_result"
    }
   ],
   "source": [
    "df.isna().sum()"
   ]
  },
  {
   "cell_type": "code",
   "execution_count": 17,
   "id": "2dd028b4",
   "metadata": {},
   "outputs": [
    {
     "data": {
      "text/html": [
       "<div>\n",
       "<style scoped>\n",
       "    .dataframe tbody tr th:only-of-type {\n",
       "        vertical-align: middle;\n",
       "    }\n",
       "\n",
       "    .dataframe tbody tr th {\n",
       "        vertical-align: top;\n",
       "    }\n",
       "\n",
       "    .dataframe thead th {\n",
       "        text-align: right;\n",
       "    }\n",
       "</style>\n",
       "<table border=\"1\" class=\"dataframe\">\n",
       "  <thead>\n",
       "    <tr style=\"text-align: right;\">\n",
       "      <th></th>\n",
       "      <th>Airline</th>\n",
       "      <th>Date_of_Journey</th>\n",
       "      <th>Source</th>\n",
       "      <th>Destination</th>\n",
       "      <th>Route</th>\n",
       "      <th>Dep_Time</th>\n",
       "      <th>Arrival_Time</th>\n",
       "      <th>Duration</th>\n",
       "      <th>Total_Stops</th>\n",
       "      <th>Additional_Info</th>\n",
       "      <th>Price</th>\n",
       "      <th>Number_of_Dep_Time</th>\n",
       "      <th>Number_Duration</th>\n",
       "      <th>Day_Arrival</th>\n",
       "    </tr>\n",
       "  </thead>\n",
       "  <tbody>\n",
       "    <tr>\n",
       "      <th>9039</th>\n",
       "      <td>Air India</td>\n",
       "      <td>6/05/2019</td>\n",
       "      <td>Delhi</td>\n",
       "      <td>Cochin</td>\n",
       "      <td>NaN</td>\n",
       "      <td>09:45</td>\n",
       "      <td>09:25 07 May</td>\n",
       "      <td>23h 40m</td>\n",
       "      <td>NaN</td>\n",
       "      <td>No info</td>\n",
       "      <td>7480</td>\n",
       "      <td>9.45</td>\n",
       "      <td>23.4</td>\n",
       "      <td>7</td>\n",
       "    </tr>\n",
       "  </tbody>\n",
       "</table>\n",
       "</div>"
      ],
      "text/plain": [
       "        Airline Date_of_Journey Source Destination Route Dep_Time  \\\n",
       "9039  Air India       6/05/2019  Delhi      Cochin   NaN    09:45   \n",
       "\n",
       "      Arrival_Time Duration Total_Stops Additional_Info  Price  \\\n",
       "9039  09:25 07 May  23h 40m         NaN         No info   7480   \n",
       "\n",
       "      Number_of_Dep_Time  Number_Duration  Day_Arrival  \n",
       "9039                9.45             23.4            7  "
      ]
     },
     "execution_count": 17,
     "metadata": {},
     "output_type": "execute_result"
    }
   ],
   "source": [
    "df[df['Total_Stops'].isna()]"
   ]
  },
  {
   "cell_type": "code",
   "execution_count": 18,
   "id": "a9c5f384",
   "metadata": {},
   "outputs": [],
   "source": [
    "df = df.drop(9039)"
   ]
  },
  {
   "cell_type": "code",
   "execution_count": 19,
   "id": "9fe1856b",
   "metadata": {},
   "outputs": [
    {
     "data": {
      "text/plain": [
       "Airline               0\n",
       "Date_of_Journey       0\n",
       "Source                0\n",
       "Destination           0\n",
       "Route                 0\n",
       "Dep_Time              0\n",
       "Arrival_Time          0\n",
       "Duration              0\n",
       "Total_Stops           0\n",
       "Additional_Info       0\n",
       "Price                 0\n",
       "Number_of_Dep_Time    0\n",
       "Number_Duration       0\n",
       "Day_Arrival           0\n",
       "dtype: int64"
      ]
     },
     "execution_count": 19,
     "metadata": {},
     "output_type": "execute_result"
    }
   ],
   "source": [
    "df.isna().sum()"
   ]
  },
  {
   "cell_type": "markdown",
   "id": "6d3876f6",
   "metadata": {},
   "source": [
    "## Dealing with Outliers"
   ]
  },
  {
   "cell_type": "code",
   "execution_count": 20,
   "id": "a7059c3b",
   "metadata": {},
   "outputs": [
    {
     "data": {
      "text/plain": [
       "<matplotlib.axes._subplots.AxesSubplot at 0x2a2985c69c8>"
      ]
     },
     "execution_count": 20,
     "metadata": {},
     "output_type": "execute_result"
    },
    {
     "data": {
      "image/png": "[encoded data removed]",
      "text/plain": [
       "<Figure size 432x288 with 1 Axes>"
      ]
     },
     "metadata": {
      "needs_background": "light"
     },
     "output_type": "display_data"
    }
   ],
   "source": [
    "# Checking that we removed the outliers\n",
    "sns.boxplot(data=df , y=df['Number_Duration'])\n",
    "sns.stripplot(y=df['Number_Duration'], data=df, color=\"#474646\")"
   ]
  },
  {
   "cell_type": "code",
   "execution_count": 21,
   "id": "c95ddcd0",
   "metadata": {},
   "outputs": [
    {
     "data": {
      "text/plain": [
       "<matplotlib.axes._subplots.AxesSubplot at 0x2a298eeb2c8>"
      ]
     },
     "execution_count": 21,
     "metadata": {},
     "output_type": "execute_result"
    },
    {
     "data": {
      "image/png": "[encoded data removed]",
      "text/plain": [
       "<Figure size 432x288 with 1 Axes>"
      ]
     },
     "metadata": {
      "needs_background": "light"
     },
     "output_type": "display_data"
    }
   ],
   "source": [
    "# Checking that we removed the outliers\n",
    "sns.boxplot(data=df , y=df['Price'])\n",
    "sns.stripplot(y=df['Price'], data=df, color=\"#474646\")"
   ]
  },
  {
   "cell_type": "code",
   "execution_count": 22,
   "id": "626c732f",
   "metadata": {},
   "outputs": [
    {
     "data": {
      "text/plain": [
       "63"
      ]
     },
     "execution_count": 22,
     "metadata": {},
     "output_type": "execute_result"
    }
   ],
   "source": [
    "from scipy import stats\n",
    " \n",
    "z = np.abs(stats.zscore(df['Number_Duration']))\n",
    "out = df.loc[z>3].index\n",
    "len(out)"
   ]
  },
  {
   "cell_type": "code",
   "execution_count": 19,
   "id": "ddcda17c",
   "metadata": {},
   "outputs": [
    {
     "data": {
      "text/plain": [
       "8266.0"
      ]
     },
     "execution_count": 19,
     "metadata": {},
     "output_type": "execute_result"
    }
   ],
   "source": [
    "df['Price'].median()"
   ]
  },
  {
   "cell_type": "code",
   "execution_count": 24,
   "id": "dbbcccbd",
   "metadata": {},
   "outputs": [
    {
     "data": {
      "text/plain": [
       "8.25"
      ]
     },
     "execution_count": 24,
     "metadata": {},
     "output_type": "execute_result"
    }
   ],
   "source": [
    "df['Number_Duration'].median()"
   ]
  },
  {
   "cell_type": "code",
   "execution_count": 25,
   "id": "eaa4b019",
   "metadata": {},
   "outputs": [
    {
     "data": {
      "text/plain": [
       "81"
      ]
     },
     "execution_count": 25,
     "metadata": {},
     "output_type": "execute_result"
    }
   ],
   "source": [
    "from scipy import stats\n",
    " \n",
    "z = np.abs(stats.zscore(df['Price']))\n",
    "out = df.loc[z>3.5].index\n",
    "len(out)"
   ]
  },
  {
   "cell_type": "code",
   "execution_count": 15,
   "id": "f7320c38",
   "metadata": {},
   "outputs": [
    {
     "data": {
      "text/html": [
       "<div>\n",
       "<style scoped>\n",
       "    .dataframe tbody tr th:only-of-type {\n",
       "        vertical-align: middle;\n",
       "    }\n",
       "\n",
       "    .dataframe tbody tr th {\n",
       "        vertical-align: top;\n",
       "    }\n",
       "\n",
       "    .dataframe thead th {\n",
       "        text-align: right;\n",
       "    }\n",
       "</style>\n",
       "<table border=\"1\" class=\"dataframe\">\n",
       "  <thead>\n",
       "    <tr style=\"text-align: right;\">\n",
       "      <th></th>\n",
       "      <th>Airline</th>\n",
       "      <th>Date_of_Journey</th>\n",
       "      <th>Source</th>\n",
       "      <th>Destination</th>\n",
       "      <th>Route</th>\n",
       "      <th>Dep_Time</th>\n",
       "      <th>Arrival_Time</th>\n",
       "      <th>Duration</th>\n",
       "      <th>Total_Stops</th>\n",
       "      <th>Additional_Info</th>\n",
       "      <th>Price</th>\n",
       "      <th>Number_of_Dep_Time</th>\n",
       "      <th>Number_Duration</th>\n",
       "      <th>Day_Arrival</th>\n",
       "    </tr>\n",
       "  </thead>\n",
       "  <tbody>\n",
       "    <tr>\n",
       "      <th>0</th>\n",
       "      <td>IndiGo</td>\n",
       "      <td>24/03/2019</td>\n",
       "      <td>Banglore</td>\n",
       "      <td>New Delhi</td>\n",
       "      <td>BLR → DEL</td>\n",
       "      <td>22:20</td>\n",
       "      <td>01:10 22 Mar</td>\n",
       "      <td>2h 50m</td>\n",
       "      <td>non-stop</td>\n",
       "      <td>No info</td>\n",
       "      <td>3897</td>\n",
       "      <td>22.20</td>\n",
       "      <td>2.50</td>\n",
       "      <td>25</td>\n",
       "    </tr>\n",
       "    <tr>\n",
       "      <th>1</th>\n",
       "      <td>Air India</td>\n",
       "      <td>1/05/2019</td>\n",
       "      <td>Kolkata</td>\n",
       "      <td>Banglore</td>\n",
       "      <td>CCU → IXR → BBI → BLR</td>\n",
       "      <td>05:50</td>\n",
       "      <td>13:15</td>\n",
       "      <td>7h 25m</td>\n",
       "      <td>2 stops</td>\n",
       "      <td>No info</td>\n",
       "      <td>7662</td>\n",
       "      <td>5.50</td>\n",
       "      <td>7.25</td>\n",
       "      <td>1</td>\n",
       "    </tr>\n",
       "    <tr>\n",
       "      <th>2</th>\n",
       "      <td>Jet Airways</td>\n",
       "      <td>9/06/2019</td>\n",
       "      <td>Delhi</td>\n",
       "      <td>Cochin</td>\n",
       "      <td>DEL → LKO → BOM → COK</td>\n",
       "      <td>09:25</td>\n",
       "      <td>04:25 10 Jun</td>\n",
       "      <td>19h</td>\n",
       "      <td>2 stops</td>\n",
       "      <td>No info</td>\n",
       "      <td>13882</td>\n",
       "      <td>9.25</td>\n",
       "      <td>19.00</td>\n",
       "      <td>10</td>\n",
       "    </tr>\n",
       "    <tr>\n",
       "      <th>3</th>\n",
       "      <td>IndiGo</td>\n",
       "      <td>12/05/2019</td>\n",
       "      <td>Kolkata</td>\n",
       "      <td>Banglore</td>\n",
       "      <td>CCU → NAG → BLR</td>\n",
       "      <td>18:05</td>\n",
       "      <td>23:30</td>\n",
       "      <td>5h 25m</td>\n",
       "      <td>1 stop</td>\n",
       "      <td>No info</td>\n",
       "      <td>6218</td>\n",
       "      <td>18.05</td>\n",
       "      <td>5.25</td>\n",
       "      <td>12</td>\n",
       "    </tr>\n",
       "    <tr>\n",
       "      <th>4</th>\n",
       "      <td>IndiGo</td>\n",
       "      <td>01/03/2019</td>\n",
       "      <td>Banglore</td>\n",
       "      <td>New Delhi</td>\n",
       "      <td>BLR → NAG → DEL</td>\n",
       "      <td>16:50</td>\n",
       "      <td>21:35</td>\n",
       "      <td>4h 45m</td>\n",
       "      <td>1 stop</td>\n",
       "      <td>No info</td>\n",
       "      <td>13302</td>\n",
       "      <td>16.50</td>\n",
       "      <td>4.45</td>\n",
       "      <td>1</td>\n",
       "    </tr>\n",
       "    <tr>\n",
       "      <th>...</th>\n",
       "      <td>...</td>\n",
       "      <td>...</td>\n",
       "      <td>...</td>\n",
       "      <td>...</td>\n",
       "      <td>...</td>\n",
       "      <td>...</td>\n",
       "      <td>...</td>\n",
       "      <td>...</td>\n",
       "      <td>...</td>\n",
       "      <td>...</td>\n",
       "      <td>...</td>\n",
       "      <td>...</td>\n",
       "      <td>...</td>\n",
       "      <td>...</td>\n",
       "    </tr>\n",
       "    <tr>\n",
       "      <th>10678</th>\n",
       "      <td>Air Asia</td>\n",
       "      <td>9/04/2019</td>\n",
       "      <td>Kolkata</td>\n",
       "      <td>Banglore</td>\n",
       "      <td>CCU → BLR</td>\n",
       "      <td>19:55</td>\n",
       "      <td>22:25</td>\n",
       "      <td>2h 30m</td>\n",
       "      <td>non-stop</td>\n",
       "      <td>No info</td>\n",
       "      <td>4107</td>\n",
       "      <td>19.55</td>\n",
       "      <td>2.30</td>\n",
       "      <td>9</td>\n",
       "    </tr>\n",
       "    <tr>\n",
       "      <th>10679</th>\n",
       "      <td>Air India</td>\n",
       "      <td>27/04/2019</td>\n",
       "      <td>Kolkata</td>\n",
       "      <td>Banglore</td>\n",
       "      <td>CCU → BLR</td>\n",
       "      <td>20:45</td>\n",
       "      <td>23:20</td>\n",
       "      <td>2h 35m</td>\n",
       "      <td>non-stop</td>\n",
       "      <td>No info</td>\n",
       "      <td>4145</td>\n",
       "      <td>20.45</td>\n",
       "      <td>2.35</td>\n",
       "      <td>27</td>\n",
       "    </tr>\n",
       "    <tr>\n",
       "      <th>10680</th>\n",
       "      <td>Jet Airways</td>\n",
       "      <td>27/04/2019</td>\n",
       "      <td>Banglore</td>\n",
       "      <td>Delhi</td>\n",
       "      <td>BLR → DEL</td>\n",
       "      <td>08:20</td>\n",
       "      <td>11:20</td>\n",
       "      <td>3h</td>\n",
       "      <td>non-stop</td>\n",
       "      <td>No info</td>\n",
       "      <td>7229</td>\n",
       "      <td>8.20</td>\n",
       "      <td>3.00</td>\n",
       "      <td>27</td>\n",
       "    </tr>\n",
       "    <tr>\n",
       "      <th>10681</th>\n",
       "      <td>Vistara</td>\n",
       "      <td>01/03/2019</td>\n",
       "      <td>Banglore</td>\n",
       "      <td>New Delhi</td>\n",
       "      <td>BLR → DEL</td>\n",
       "      <td>11:30</td>\n",
       "      <td>14:10</td>\n",
       "      <td>2h 40m</td>\n",
       "      <td>non-stop</td>\n",
       "      <td>No info</td>\n",
       "      <td>12648</td>\n",
       "      <td>11.30</td>\n",
       "      <td>2.40</td>\n",
       "      <td>1</td>\n",
       "    </tr>\n",
       "    <tr>\n",
       "      <th>10682</th>\n",
       "      <td>Air India</td>\n",
       "      <td>9/05/2019</td>\n",
       "      <td>Delhi</td>\n",
       "      <td>Cochin</td>\n",
       "      <td>DEL → GOI → BOM → COK</td>\n",
       "      <td>10:55</td>\n",
       "      <td>19:15</td>\n",
       "      <td>8h 20m</td>\n",
       "      <td>2 stops</td>\n",
       "      <td>No info</td>\n",
       "      <td>11753</td>\n",
       "      <td>10.55</td>\n",
       "      <td>8.20</td>\n",
       "      <td>9</td>\n",
       "    </tr>\n",
       "  </tbody>\n",
       "</table>\n",
       "<p>10463 rows × 14 columns</p>\n",
       "</div>"
      ],
      "text/plain": [
       "           Airline Date_of_Journey    Source Destination  \\\n",
       "0           IndiGo      24/03/2019  Banglore   New Delhi   \n",
       "1        Air India       1/05/2019   Kolkata    Banglore   \n",
       "2      Jet Airways       9/06/2019     Delhi      Cochin   \n",
       "3           IndiGo      12/05/2019   Kolkata    Banglore   \n",
       "4           IndiGo      01/03/2019  Banglore   New Delhi   \n",
       "...            ...             ...       ...         ...   \n",
       "10678     Air Asia       9/04/2019   Kolkata    Banglore   \n",
       "10679    Air India      27/04/2019   Kolkata    Banglore   \n",
       "10680  Jet Airways      27/04/2019  Banglore       Delhi   \n",
       "10681      Vistara      01/03/2019  Banglore   New Delhi   \n",
       "10682    Air India       9/05/2019     Delhi      Cochin   \n",
       "\n",
       "                       Route Dep_Time  Arrival_Time Duration Total_Stops  \\\n",
       "0                  BLR → DEL    22:20  01:10 22 Mar   2h 50m    non-stop   \n",
       "1      CCU → IXR → BBI → BLR    05:50         13:15   7h 25m     2 stops   \n",
       "2      DEL → LKO → BOM → COK    09:25  04:25 10 Jun      19h     2 stops   \n",
       "3            CCU → NAG → BLR    18:05         23:30   5h 25m      1 stop   \n",
       "4            BLR → NAG → DEL    16:50         21:35   4h 45m      1 stop   \n",
       "...                      ...      ...           ...      ...         ...   \n",
       "10678              CCU → BLR    19:55         22:25   2h 30m    non-stop   \n",
       "10679              CCU → BLR    20:45         23:20   2h 35m    non-stop   \n",
       "10680              BLR → DEL    08:20         11:20       3h    non-stop   \n",
       "10681              BLR → DEL    11:30         14:10   2h 40m    non-stop   \n",
       "10682  DEL → GOI → BOM → COK    10:55         19:15   8h 20m     2 stops   \n",
       "\n",
       "      Additional_Info  Price  Number_of_Dep_Time  Number_Duration  Day_Arrival  \n",
       "0             No info   3897               22.20             2.50           25  \n",
       "1             No info   7662                5.50             7.25            1  \n",
       "2             No info  13882                9.25            19.00           10  \n",
       "3             No info   6218               18.05             5.25           12  \n",
       "4             No info  13302               16.50             4.45            1  \n",
       "...               ...    ...                 ...              ...          ...  \n",
       "10678         No info   4107               19.55             2.30            9  \n",
       "10679         No info   4145               20.45             2.35           27  \n",
       "10680         No info   7229                8.20             3.00           27  \n",
       "10681         No info  12648               11.30             2.40            1  \n",
       "10682         No info  11753               10.55             8.20            9  \n",
       "\n",
       "[10463 rows x 14 columns]"
      ]
     },
     "execution_count": 15,
     "metadata": {},
     "output_type": "execute_result"
    }
   ],
   "source": []
  },
  {
   "cell_type": "code",
   "execution_count": 21,
   "id": "4260d1d2",
   "metadata": {},
   "outputs": [],
   "source": [
    "df['Price'].iloc[out] = df['Price'].median()"
   ]
  },
  {
   "cell_type": "code",
   "execution_count": 16,
   "id": "eda19d64",
   "metadata": {},
   "outputs": [],
   "source": [
    "# Creating a lsit of values for the traffic Status in a dictionry\n",
    "stops_dict = {'non-stop' : 0,\n",
    "                  '1 stop' : 1,\n",
    "                  '2 stops' : 2,\n",
    "                  '3 stops' : 3,\n",
    "                  '4 stops' : 4}\n",
    "# For Reversing the keys and vlues of the dictionary to retrive the encoded values using copmrehension for loop\n",
    "rev_stops_dict = {value: key for key, value in stops_dict.items()}"
   ]
  },
  {
   "cell_type": "code",
   "execution_count": 17,
   "id": "e83e8f86",
   "metadata": {},
   "outputs": [
    {
     "data": {
      "text/plain": [
       "0        0.0\n",
       "1        2.0\n",
       "2        2.0\n",
       "3        1.0\n",
       "4        1.0\n",
       "        ... \n",
       "10678    0.0\n",
       "10679    0.0\n",
       "10680    0.0\n",
       "10681    0.0\n",
       "10682    2.0\n",
       "Name: Total_Stops, Length: 10463, dtype: float64"
      ]
     },
     "execution_count": 17,
     "metadata": {},
     "output_type": "execute_result"
    }
   ],
   "source": [
    "df['Total_Stops'] = df['Total_Stops'].map(stops_dict)\n",
    "df['Total_Stops']"
   ]
  },
  {
   "cell_type": "markdown",
   "id": "daabb957",
   "metadata": {},
   "source": [
    "## Encoding"
   ]
  },
  {
   "cell_type": "code",
   "execution_count": 24,
   "id": "ff896782",
   "metadata": {},
   "outputs": [],
   "source": [
    "from sklearn.compose import ColumnTransformer\n",
    "from sklearn.pipeline import Pipeline\n",
    "from sklearn.preprocessing import OneHotEncoder , RobustScaler , StandardScaler\n",
    "from category_encoders.binary import BinaryEncoder\n",
    "from sklearn.linear_model import LinearRegression\n",
    "from sklearn.model_selection import cross_validate"
   ]
  },
  {
   "cell_type": "code",
   "execution_count": 25,
   "id": "cb7ff00d",
   "metadata": {},
   "outputs": [],
   "source": [
    "Encoder = ColumnTransformer(transformers=[(\"BE\",BinaryEncoder() , [\"Airline\",\"Source\",\"Destination\"]) ] , remainder=\"passthrough\")"
   ]
  },
  {
   "cell_type": "code",
   "execution_count": 26,
   "id": "8b92b5ad",
   "metadata": {},
   "outputs": [],
   "source": [
    "steps = []\n",
    "steps.append((\"Encoder\" , Encoder))\n",
    "steps.append((\"Scaler\" , RobustScaler()))\n",
    "steps.append((\"Model\" , LinearRegression()) )\n",
    "pipeline = Pipeline(steps = steps)"
   ]
  },
  {
   "cell_type": "code",
   "execution_count": 27,
   "id": "4289f258",
   "metadata": {},
   "outputs": [],
   "source": [
    "df.drop([\"Date_of_Journey\" , \"Route\" , \"Dep_Time\" , \"Arrival_Time\" , \"Duration\",\"Additional_Info\"] , axis = 1 , inplace = True)"
   ]
  },
  {
   "cell_type": "code",
   "execution_count": 28,
   "id": "a7bf5510",
   "metadata": {},
   "outputs": [],
   "source": [
    "x = df.drop(\"Price\" , axis = 1 )\n",
    "y = df[\"Price\"]"
   ]
  },
  {
   "cell_type": "markdown",
   "id": "12072d70",
   "metadata": {},
   "source": [
    "# Implementing Pipeline"
   ]
  },
  {
   "cell_type": "code",
   "execution_count": 29,
   "id": "ec6645ae",
   "metadata": {},
   "outputs": [],
   "source": [
    "result = cross_validate(pipeline ,x , y, cv = 5 , scoring = ['neg_mean_squared_error', 'neg_mean_absolute_error', 'r2'] , return_train_score=True)"
   ]
  },
  {
   "cell_type": "code",
   "execution_count": 30,
   "id": "86dd333b",
   "metadata": {},
   "outputs": [],
   "source": [
    "from sklearn.linear_model import LinearRegression\n",
    "from sklearn.preprocessing import PolynomialFeatures\n",
    "from sklearn.svm import SVR\n",
    "from sklearn.tree import DecisionTreeRegressor\n",
    "from sklearn.ensemble import RandomForestRegressor\n",
    "# import tensorflow as tf\n",
    "# from tensorflow.keras.models import Sequential\n",
    "# from tensorflow.keras.layers import Dense\n",
    "# from tensorflow.keras.wrappers.scikit_learn import KerasRegressor"
   ]
  },
  {
   "cell_type": "markdown",
   "id": "2ed16629",
   "metadata": {},
   "source": [
    "## The test for applying a Pytorch NN"
   ]
  },
  {
   "cell_type": "code",
   "execution_count": 29,
   "id": "1d18acbc",
   "metadata": {},
   "outputs": [],
   "source": [
    "# def create_model():\n",
    "#     model = Sequential()\n",
    "#     model.add(Dense(units=64, activation='relu', input_shape=(15,)))  # Update input shape\n",
    "#     model.add(Dense(units=1))\n",
    "#     model.compile(optimizer='adam', loss='mean_squared_error')\n",
    "#     return model"
   ]
  },
  {
   "cell_type": "code",
   "execution_count": 31,
   "id": "6d11f583",
   "metadata": {},
   "outputs": [],
   "source": [
    "models = []\n",
    "models.append((\"LR\" , LinearRegression()))\n",
    "#models.append((\"PR\" , PolynomialFeatures(degree = 4)))\n",
    "models.append((\"SVR\" , SVR(kernel = 'rbf')))\n",
    "models.append((\"DTR\" , DecisionTreeRegressor(random_state = 0)))\n",
    "models.append((\"RFR\" , RandomForestRegressor(n_estimators = 10, random_state = 0)))\n",
    "#models.append(('NN' , KerasRegressor(build_fn=create_model, epochs=100, batch_size=32, verbose=0)))"
   ]
  },
  {
   "cell_type": "markdown",
   "id": "01d797c4",
   "metadata": {},
   "source": [
    "## Visualizing Models Performance"
   ]
  },
  {
   "cell_type": "code",
   "execution_count": 32,
   "id": "3dd61a5d",
   "metadata": {},
   "outputs": [
    {
     "name": "stdout",
     "output_type": "stream",
     "text": [
      "LR AVG Train neg_mean_squared_error is -10046241.009739129\n",
      "LR AVG Test neg_mean_squared_error is -10082852.750051513\n",
      "LR AVG Train neg_mean_absolute_error is -2154.064173017857\n",
      "LR AVG Test neg_mean_absolute_error is -2156.227818680339\n",
      "LR AVG Train r2 is 0.5303344188395019\n",
      "LR AVG Test r2 is 0.5284312019871038\n",
      "******************************\n",
      "SVR AVG Train neg_mean_squared_error is -19457210.941726986\n",
      "SVR AVG Test neg_mean_squared_error is -19469786.861169\n",
      "SVR AVG Train neg_mean_absolute_error is -3259.2285694801967\n",
      "SVR AVG Test neg_mean_absolute_error is -3261.4114788871093\n",
      "SVR AVG Train r2 is 0.0902643449332794\n",
      "SVR AVG Test r2 is 0.08942805168469511\n",
      "******************************\n",
      "DTR AVG Train neg_mean_squared_error is -1334143.7255232274\n",
      "DTR AVG Test neg_mean_squared_error is -7884657.718905476\n",
      "DTR AVG Train neg_mean_absolute_error is -585.7816980157424\n",
      "DTR AVG Test neg_mean_absolute_error is -1738.469311945047\n",
      "DTR AVG Train r2 is 0.9376144055686553\n",
      "DTR AVG Test r2 is 0.6301067766351163\n",
      "******************************\n",
      "RFR AVG Train neg_mean_squared_error is -1936167.5109359182\n",
      "RFR AVG Test neg_mean_squared_error is -6102323.124487242\n",
      "RFR AVG Train neg_mean_absolute_error is -856.6575886172184\n",
      "RFR AVG Test neg_mean_absolute_error is -1584.6272098126979\n",
      "RFR AVG Train r2 is 0.9094657223072572\n",
      "RFR AVG Test r2 is 0.7139331125875417\n",
      "******************************\n"
     ]
    }
   ],
   "source": [
    "for model in models:\n",
    "    steps = []\n",
    "    steps.append((\"Encoder\", Encoder))\n",
    "    steps.append((\"Scaler\", RobustScaler()))\n",
    "    steps.append(model)\n",
    "    pipeline = Pipeline(steps=steps)\n",
    "    result = cross_validate(pipeline, x, y, cv=5, scoring=['neg_mean_squared_error', 'neg_mean_absolute_error', 'r2'], return_train_score=True)\n",
    "    \n",
    "    for metric in ['neg_mean_squared_error', 'neg_mean_absolute_error', 'r2']:\n",
    "        train_key = f'train_{metric}'\n",
    "        test_key = f'test_{metric}'\n",
    "        \n",
    "        print(f\"{model[0]} AVG Train {metric} is {result[train_key].mean()}\")\n",
    "        print(f\"{model[0]} AVG Test {metric} is {result[test_key].mean()}\")\n",
    "    print(\"*\" * 30)\n"
   ]
  },
  {
   "cell_type": "code",
   "execution_count": 40,
   "id": "7c5ab610",
   "metadata": {},
   "outputs": [
    {
     "name": "stdout",
     "output_type": "stream",
     "text": [
      "LR AVG Train r2 is 0.5303344188395018\n",
      "LR AVG Test r2 is 0.528431201987104\n",
      "******************************\n",
      "SVR AVG Train r2 is 0.0840576478865116\n",
      "SVR AVG Test r2 is 0.08324502786604435\n",
      "******************************\n",
      "DTR AVG Train r2 is 0.9376144055686553\n",
      "DTR AVG Test r2 is 0.6350062717826501\n",
      "******************************\n",
      "RFR AVG Train r2 is 0.909861395974471\n",
      "RFR AVG Test r2 is 0.7116154601504221\n",
      "******************************\n"
     ]
    }
   ],
   "source": [
    "for model in models:\n",
    "    steps = []\n",
    "    steps.append((\"Encoder\", Encoder))\n",
    "    steps.append((\"Scaler\", RobustScaler()))\n",
    "    steps.append(model)\n",
    "    pipeline = Pipeline(steps=steps)\n",
    "    result = cross_validate(pipeline, x, y, cv=5, scoring=['r2'], return_train_score=True)\n",
    "    \n",
    "    for metric in ['r2']:\n",
    "        train_key = f'train_{metric}'\n",
    "        test_key = f'test_{metric}'\n",
    "        \n",
    "        print(f\"{model[0]} AVG Train {metric} is {result[train_key].mean()}\")\n",
    "        print(f\"{model[0]} AVG Test {metric} is {result[test_key].mean()}\")\n",
    "    print(\"*\" * 30)\n"
   ]
  },
  {
   "cell_type": "code",
   "execution_count": 100,
   "id": "9127d2e8",
   "metadata": {},
   "outputs": [
    {
     "data": {
      "image/png": "[encoded data removed]",
      "text/plain": [
       "<Figure size 432x288 with 1 Axes>"
      ]
     },
     "metadata": {
      "needs_background": "light"
     },
     "output_type": "display_data"
    },
    {
     "data": {
      "image/png": "[encoded data removed]",
      "text/plain": [
       "<Figure size 432x288 with 1 Axes>"
      ]
     },
     "metadata": {
      "needs_background": "light"
     },
     "output_type": "display_data"
    },
    {
     "name": "stdout",
     "output_type": "stream",
     "text": [
      "LR AVG Train neg_mean_squared_error is -10046241.009739129\n",
      "LR AVG Test neg_mean_squared_error is -10082852.750051513\n",
      "LR AVG Train neg_mean_absolute_error is -2154.0641730178563\n",
      "LR AVG Test neg_mean_absolute_error is -2156.2278186803387\n",
      "LR AVG Train r2 is 0.5303344188395018\n",
      "LR AVG Test r2 is 0.528431201987104\n",
      "******************************\n"
     ]
    },
    {
     "data": {
      "image/png": "[encoded data removed]",
      "text/plain": [
       "<Figure size 432x288 with 1 Axes>"
      ]
     },
     "metadata": {
      "needs_background": "light"
     },
     "output_type": "display_data"
    },
    {
     "data": {
      "image/png": "[encoded data removed]",
      "text/plain": [
       "<Figure size 432x288 with 1 Axes>"
      ]
     },
     "metadata": {
      "needs_background": "light"
     },
     "output_type": "display_data"
    },
    {
     "name": "stdout",
     "output_type": "stream",
     "text": [
      "SVR AVG Train neg_mean_squared_error is -19589935.482953303\n",
      "SVR AVG Test neg_mean_squared_error is -19601523.543114346\n",
      "SVR AVG Train neg_mean_absolute_error is -3280.611124640177\n",
      "SVR AVG Test neg_mean_absolute_error is -3282.5732715675017\n",
      "SVR AVG Train r2 is 0.0840576478865116\n",
      "SVR AVG Test r2 is 0.08324502786604435\n",
      "******************************\n"
     ]
    },
    {
     "data": {
      "image/png": "[encoded data removed]",
      "text/plain": [
       "<Figure size 432x288 with 1 Axes>"
      ]
     },
     "metadata": {
      "needs_background": "light"
     },
     "output_type": "display_data"
    },
    {
     "data": {
      "image/png": "[encoded data removed]",
      "text/plain": [
       "<Figure size 432x288 with 1 Axes>"
      ]
     },
     "metadata": {
      "needs_background": "light"
     },
     "output_type": "display_data"
    },
    {
     "name": "stdout",
     "output_type": "stream",
     "text": [
      "DTR AVG Train neg_mean_squared_error is -1334143.7255232274\n",
      "DTR AVG Test neg_mean_squared_error is -7773697.450694884\n",
      "DTR AVG Train neg_mean_absolute_error is -585.7816980157424\n",
      "DTR AVG Test neg_mean_absolute_error is -1732.77934918868\n",
      "DTR AVG Train r2 is 0.9376144055686553\n",
      "DTR AVG Test r2 is 0.6350062717826501\n",
      "******************************\n"
     ]
    },
    {
     "data": {
      "image/png": "[encoded data removed]",
      "text/plain": [
       "<Figure size 432x288 with 1 Axes>"
      ]
     },
     "metadata": {
      "needs_background": "light"
     },
     "output_type": "display_data"
    },
    {
     "data": {
      "image/png": "[encoded data removed]",
      "text/plain": [
       "<Figure size 432x288 with 1 Axes>"
      ]
     },
     "metadata": {
      "needs_background": "light"
     },
     "output_type": "display_data"
    },
    {
     "name": "stdout",
     "output_type": "stream",
     "text": [
      "RFR AVG Train neg_mean_squared_error is -1927613.0245418805\n",
      "RFR AVG Test neg_mean_squared_error is -6156819.0590686565\n",
      "RFR AVG Train neg_mean_absolute_error is -856.9296432729112\n",
      "RFR AVG Test neg_mean_absolute_error is -1585.8179250058124\n",
      "RFR AVG Train r2 is 0.909861395974471\n",
      "RFR AVG Test r2 is 0.7116154601504221\n",
      "******************************\n"
     ]
    },
    {
     "data": {
      "image/png": "[encoded data removed]",
      "text/plain": [
       "<Figure size 432x288 with 1 Axes>"
      ]
     },
     "metadata": {
      "needs_background": "light"
     },
     "output_type": "display_data"
    },
    {
     "data": {
      "image/png": "[encoded data removed]",
      "text/plain": [
       "<Figure size 432x288 with 1 Axes>"
      ]
     },
     "metadata": {
      "needs_background": "light"
     },
     "output_type": "display_data"
    },
    {
     "name": "stdout",
     "output_type": "stream",
     "text": [
      "NN AVG Train neg_mean_squared_error is -10540186.447869381\n",
      "NN AVG Test neg_mean_squared_error is -10588021.074405983\n",
      "NN AVG Train neg_mean_absolute_error is -2193.261963941131\n",
      "NN AVG Test neg_mean_absolute_error is -2196.572414870568\n",
      "NN AVG Train r2 is 0.5072406460344903\n",
      "NN AVG Test r2 is 0.5046505404548962\n",
      "******************************\n"
     ]
    }
   ],
   "source": [
    "import matplotlib.pyplot as plt\n",
    "import seaborn as sns\n",
    "from sklearn.model_selection import cross_val_predict\n",
    "\n",
    "for model in models:\n",
    "    steps = []\n",
    "    steps.append((\"Encoder\", Encoder))\n",
    "    steps.append((\"Scaler\", RobustScaler()))\n",
    "    steps.append(model)\n",
    "    pipeline = Pipeline(steps=steps)\n",
    "    y_pred = cross_val_predict(pipeline, x, y, cv=5)\n",
    "    \n",
    "    # Scatter plot of actual vs predicted values\n",
    "    plt.scatter(y, y_pred, label=model[0])\n",
    "    plt.xlabel('Actual Values')\n",
    "    plt.ylabel('Predicted Values')\n",
    "    plt.title(f'Actual vs Predicted Values - {model[0]}')\n",
    "    plt.legend()\n",
    "    plt.show()\n",
    "    \n",
    "    # Residual plot\n",
    "    residuals = y - y_pred\n",
    "    plt.scatter(y_pred, residuals, label=model[0])\n",
    "    plt.xlabel('Predicted Values')\n",
    "    plt.ylabel('Residuals')\n",
    "    plt.axhline(y=0, color='r', linestyle='--', label='Residuals Mean')\n",
    "    plt.title(f'Residual Plot - {model[0]}')\n",
    "    plt.legend()\n",
    "    plt.show()\n",
    "\n",
    "    # Other metric printing remains unchanged\n",
    "    result = cross_validate(pipeline, x, y, cv=5, scoring=['neg_mean_squared_error', 'neg_mean_absolute_error', 'r2'], return_train_score=True)\n",
    "    \n",
    "    for metric in ['neg_mean_squared_error', 'neg_mean_absolute_error', 'r2']:\n",
    "        train_key = f'train_{metric}'\n",
    "        test_key = f'test_{metric}'\n",
    "        \n",
    "        print(f\"{model[0]} AVG Train {metric} is {result[train_key].mean()}\")\n",
    "        print(f\"{model[0]} AVG Test {metric} is {result[test_key].mean()}\")\n",
    "    \n",
    "    print(\"*\" * 30)\n"
   ]
  },
  {
   "cell_type": "code",
   "execution_count": 41,
   "id": "00b0b4a8",
   "metadata": {},
   "outputs": [
    {
     "data": {
      "image/png": "[encoded data removed]",
      "text/plain": [
       "<Figure size 432x288 with 1 Axes>"
      ]
     },
     "metadata": {
      "needs_background": "light"
     },
     "output_type": "display_data"
    },
    {
     "name": "stdout",
     "output_type": "stream",
     "text": [
      "LR AVG Train neg_mean_squared_error is -10046241.009739129\n",
      "LR AVG Test neg_mean_squared_error is -10082852.750051513\n",
      "LR AVG Train neg_mean_absolute_error is -2154.0641730178563\n",
      "LR AVG Test neg_mean_absolute_error is -2156.2278186803387\n",
      "LR AVG Train r2 is 0.5303344188395018\n",
      "LR AVG Test r2 is 0.528431201987104\n",
      "******************************\n"
     ]
    },
    {
     "data": {
      "image/png": "[encoded data removed]",
      "text/plain": [
       "<Figure size 432x288 with 1 Axes>"
      ]
     },
     "metadata": {
      "needs_background": "light"
     },
     "output_type": "display_data"
    },
    {
     "name": "stdout",
     "output_type": "stream",
     "text": [
      "SVR AVG Train neg_mean_squared_error is -19589935.482953303\n",
      "SVR AVG Test neg_mean_squared_error is -19601523.543114346\n",
      "SVR AVG Train neg_mean_absolute_error is -3280.611124640177\n",
      "SVR AVG Test neg_mean_absolute_error is -3282.5732715675017\n",
      "SVR AVG Train r2 is 0.0840576478865116\n",
      "SVR AVG Test r2 is 0.08324502786604435\n",
      "******************************\n"
     ]
    },
    {
     "data": {
      "image/png": "[encoded data removed]",
      "text/plain": [
       "<Figure size 432x288 with 1 Axes>"
      ]
     },
     "metadata": {
      "needs_background": "light"
     },
     "output_type": "display_data"
    },
    {
     "name": "stdout",
     "output_type": "stream",
     "text": [
      "DTR AVG Train neg_mean_squared_error is -1334143.7255232274\n",
      "DTR AVG Test neg_mean_squared_error is -7773697.450694884\n",
      "DTR AVG Train neg_mean_absolute_error is -585.7816980157424\n",
      "DTR AVG Test neg_mean_absolute_error is -1732.77934918868\n",
      "DTR AVG Train r2 is 0.9376144055686553\n",
      "DTR AVG Test r2 is 0.6350062717826501\n",
      "******************************\n"
     ]
    },
    {
     "data": {
      "image/png": "[encoded data removed]",
      "text/plain": [
       "<Figure size 432x288 with 1 Axes>"
      ]
     },
     "metadata": {
      "needs_background": "light"
     },
     "output_type": "display_data"
    },
    {
     "name": "stdout",
     "output_type": "stream",
     "text": [
      "RFR AVG Train neg_mean_squared_error is -1927613.0245418805\n",
      "RFR AVG Test neg_mean_squared_error is -6156819.0590686565\n",
      "RFR AVG Train neg_mean_absolute_error is -856.9296432729112\n",
      "RFR AVG Test neg_mean_absolute_error is -1585.8179250058124\n",
      "RFR AVG Train r2 is 0.909861395974471\n",
      "RFR AVG Test r2 is 0.7116154601504221\n",
      "******************************\n"
     ]
    }
   ],
   "source": [
    "import matplotlib.pyplot as plt\n",
    "import seaborn as sns\n",
    "from sklearn.model_selection import cross_val_predict\n",
    "\n",
    "for model in models:\n",
    "    steps = []\n",
    "    steps.append((\"Encoder\", Encoder))\n",
    "    steps.append((\"Scaler\", RobustScaler()))\n",
    "    steps.append(model)\n",
    "    pipeline = Pipeline(steps=steps)\n",
    "    y_pred = cross_val_predict(pipeline, x, y, cv=5)\n",
    "    \n",
    "    # Randomly sample 200 points from the range 100 to 1000\n",
    "    random_indices = np.random.choice(range(100, 1000), size=200, replace=False)\n",
    "\n",
    "    # Plotting actual vs predicted values for the sampled points\n",
    "    plt.scatter(y[random_indices], y_pred[random_indices], color='blue', label='Actual')\n",
    "    plt.scatter(y[random_indices], y[random_indices], color='red', label='Predicted', marker='x')  # Using a different color for predicted points\n",
    "    plt.xlabel('Actual Ticket Prices')\n",
    "    plt.ylabel('Predicted Ticket Prices')\n",
    "    plt.title('Actual vs Predicted Ticket Prices (Sampled)')\n",
    "    plt.legend()\n",
    "    plt.show()\n",
    "\n",
    "    # Other metric printing remains unchanged\n",
    "    result = cross_validate(pipeline, x, y, cv=5, scoring=['neg_mean_squared_error', 'neg_mean_absolute_error', 'r2'], return_train_score=True)\n",
    "    \n",
    "    for metric in ['neg_mean_squared_error', 'neg_mean_absolute_error', 'r2']:\n",
    "        train_key = f'train_{metric}'\n",
    "        test_key = f'test_{metric}'\n",
    "        \n",
    "        print(f\"{model[0]} AVG Train {metric} is {result[train_key].mean()}\")\n",
    "        print(f\"{model[0]} AVG Test {metric} is {result[test_key].mean()}\")\n",
    "    \n",
    "    print(\"*\" * 30)\n"
   ]
  },
  {
   "cell_type": "markdown",
   "id": "6728ff2e",
   "metadata": {},
   "source": [
    "#### Hyper Parameter Tuning for Regression model\n",
    "\n",
    "- Random Forest Regressor\n",
    "- Grid Search"
   ]
  },
  {
   "cell_type": "code",
   "execution_count": 33,
   "id": "0ca1c0b5",
   "metadata": {},
   "outputs": [],
   "source": [
    "from sklearn.model_selection import GridSearchCV"
   ]
  },
  {
   "cell_type": "code",
   "execution_count": 34,
   "id": "3b85cab6",
   "metadata": {},
   "outputs": [],
   "source": [
    "steps = []\n",
    "steps.append((\"Encoder\" , Encoder))\n",
    "steps.append((\"Scaler\" , RobustScaler()))\n",
    "steps.append((\"Model\" , RandomForestRegressor(n_estimators = 10, random_state = 0)) )\n",
    "pipeline = Pipeline(steps = steps)"
   ]
  },
  {
   "cell_type": "code",
   "execution_count": 35,
   "id": "20f87886",
   "metadata": {},
   "outputs": [],
   "source": [
    "params = {\n",
    "\n",
    " \"Model__max_depth\"  : range(20,28)\n",
    "}"
   ]
  },
  {
   "cell_type": "code",
   "execution_count": 36,
   "id": "d730ffc7",
   "metadata": {},
   "outputs": [],
   "source": [
    "grid = GridSearchCV(estimator=pipeline , cv = 5 , param_grid=params , scoring=\"r2\" , return_train_score=True)"
   ]
  },
  {
   "cell_type": "code",
   "execution_count": 37,
   "id": "7d9c912e",
   "metadata": {},
   "outputs": [],
   "source": [
    "results = grid.fit(x,y)"
   ]
  },
  {
   "cell_type": "code",
   "execution_count": 38,
   "id": "f858eb88",
   "metadata": {},
   "outputs": [
    {
     "data": {
      "text/plain": [
       "array([0.90719281, 0.9083462 , 0.90894235, 0.90862529, 0.90969515,\n",
       "       0.90907383, 0.90958057, 0.90984489])"
      ]
     },
     "execution_count": 38,
     "metadata": {},
     "output_type": "execute_result"
    }
   ],
   "source": [
    "results.cv_results_[\"mean_train_score\"]"
   ]
  },
  {
   "cell_type": "code",
   "execution_count": 39,
   "id": "f5919e49",
   "metadata": {},
   "outputs": [
    {
     "data": {
      "text/plain": [
       "array([0.71797605, 0.71672197, 0.71567894, 0.71458813, 0.71510733,\n",
       "       0.7147938 , 0.71506016, 0.71450258])"
      ]
     },
     "execution_count": 39,
     "metadata": {},
     "output_type": "execute_result"
    }
   ],
   "source": [
    "results.cv_results_[\"mean_test_score\"]"
   ]
  },
  {
   "cell_type": "code",
   "execution_count": 40,
   "id": "65a79f2a",
   "metadata": {},
   "outputs": [
    {
     "data": {
      "text/plain": [
       "{'Model__max_depth': 20}"
      ]
     },
     "execution_count": 40,
     "metadata": {},
     "output_type": "execute_result"
    }
   ],
   "source": [
    "results.best_params_"
   ]
  },
  {
   "cell_type": "code",
   "execution_count": 41,
   "id": "a828609c",
   "metadata": {},
   "outputs": [],
   "source": [
    "Final_Model = results.best_estimator_"
   ]
  },
  {
   "cell_type": "code",
   "execution_count": 42,
   "id": "51171020",
   "metadata": {},
   "outputs": [
    {
     "data": {
      "text/plain": [
       "Pipeline(steps=[('Encoder',\n",
       "                 ColumnTransformer(remainder='passthrough',\n",
       "                                   transformers=[('BE', BinaryEncoder(),\n",
       "                                                  ['Airline', 'Source',\n",
       "                                                   'Destination'])])),\n",
       "                ('Scaler', RobustScaler()),\n",
       "                ('Model',\n",
       "                 RandomForestRegressor(max_depth=20, n_estimators=10,\n",
       "                                       random_state=0))])"
      ]
     },
     "execution_count": 42,
     "metadata": {},
     "output_type": "execute_result"
    }
   ],
   "source": [
    "Final_Model.fit(x,y)"
   ]
  },
  {
   "cell_type": "code",
   "execution_count": 43,
   "id": "e4323c3c",
   "metadata": {},
   "outputs": [],
   "source": [
    "import joblib"
   ]
  },
  {
   "cell_type": "code",
   "execution_count": 44,
   "id": "459e37c8",
   "metadata": {},
   "outputs": [
    {
     "data": {
      "text/plain": [
       "['Inputs.pkl']"
      ]
     },
     "execution_count": 44,
     "metadata": {},
     "output_type": "execute_result"
    }
   ],
   "source": [
    "joblib.dump(Final_Model , \"Model.pkl\",compress=3)\n",
    "joblib.dump(x.columns , \"Inputs.pkl\")"
   ]
  },
  {
   "cell_type": "code",
   "execution_count": 45,
   "id": "66bfc936",
   "metadata": {},
   "outputs": [
    {
     "data": {
      "text/plain": [
       "Index(['Airline', 'Source', 'Destination', 'Total_Stops', 'Number_of_Dep_Time',\n",
       "       'Number_Duration', 'Day_Arrival'],\n",
       "      dtype='object')"
      ]
     },
     "execution_count": 45,
     "metadata": {},
     "output_type": "execute_result"
    }
   ],
   "source": [
    "x.columns"
   ]
  }
 ],
 "metadata": {
  "kernelspec": {
   "display_name": "Python 3",
   "language": "python",
   "name": "python3"
  },
  "language_info": {
   "codemirror_mode": {
    "name": "ipython",
    "version": 3
   },
   "file_extension": ".py",
   "mimetype": "text/x-python",
   "name": "python",
   "nbconvert_exporter": "python",
   "pygments_lexer": "ipython3",
   "version": "3.7.6"
  }
 },
 "nbformat": 4,
 "nbformat_minor": 5
}
